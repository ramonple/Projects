{
 "cells": [
  {
   "cell_type": "code",
   "execution_count": 2,
   "id": "b83771ab",
   "metadata": {},
   "outputs": [
    {
     "name": "stdout",
     "output_type": "stream",
     "text": [
      "Collecting quandl\n",
      "  Downloading Quandl-3.7.0-py2.py3-none-any.whl (26 kB)\n",
      "Collecting more-itertools\n",
      "  Downloading more_itertools-8.13.0-py3-none-any.whl (51 kB)\n",
      "\u001b[K     |████████████████████████████████| 51 kB 877 kB/s eta 0:00:01\n",
      "\u001b[?25hRequirement already satisfied: six in ./opt/anaconda3/lib/python3.9/site-packages (from quandl) (1.16.0)\n",
      "Requirement already satisfied: pandas>=0.14 in ./opt/anaconda3/lib/python3.9/site-packages (from quandl) (1.3.4)\n",
      "Requirement already satisfied: numpy>=1.8 in ./opt/anaconda3/lib/python3.9/site-packages (from quandl) (1.21.4)\n",
      "Collecting inflection>=0.3.1\n",
      "  Downloading inflection-0.5.1-py2.py3-none-any.whl (9.5 kB)\n",
      "Requirement already satisfied: requests>=2.7.0 in ./opt/anaconda3/lib/python3.9/site-packages (from quandl) (2.26.0)\n",
      "Requirement already satisfied: python-dateutil in ./opt/anaconda3/lib/python3.9/site-packages (from quandl) (2.8.2)\n",
      "Requirement already satisfied: pytz>=2017.3 in ./opt/anaconda3/lib/python3.9/site-packages (from pandas>=0.14->quandl) (2021.3)\n",
      "Requirement already satisfied: certifi>=2017.4.17 in ./opt/anaconda3/lib/python3.9/site-packages (from requests>=2.7.0->quandl) (2021.10.8)\n",
      "Requirement already satisfied: charset-normalizer~=2.0.0 in ./opt/anaconda3/lib/python3.9/site-packages (from requests>=2.7.0->quandl) (2.0.4)\n",
      "Requirement already satisfied: idna<4,>=2.5 in ./opt/anaconda3/lib/python3.9/site-packages (from requests>=2.7.0->quandl) (3.3)\n",
      "Requirement already satisfied: urllib3<1.27,>=1.21.1 in ./opt/anaconda3/lib/python3.9/site-packages (from requests>=2.7.0->quandl) (1.26.7)\n",
      "Installing collected packages: more-itertools, inflection, quandl\n",
      "Successfully installed inflection-0.5.1 more-itertools-8.13.0 quandl-3.7.0\n"
     ]
    }
   ],
   "source": [
    "!pip install quandl\n",
    "\n",
    "# Quandl is a platform that provides its users with economic, financial and alternative datasets."
   ]
  },
  {
   "cell_type": "code",
   "execution_count": 45,
   "id": "5c65e87d",
   "metadata": {},
   "outputs": [],
   "source": [
    "import warnings\n",
    "warnings.simplefilter('ignore')"
   ]
  },
  {
   "cell_type": "code",
   "execution_count": 4,
   "id": "3bd00b4d",
   "metadata": {},
   "outputs": [],
   "source": [
    "import quandl \n",
    "import numpy as np\n",
    "from sklearn.linear_model import LinearRegression\n",
    "from sklearn.svm import SVR\n",
    "from sklearn.model_selection import train_test_split"
   ]
  },
  {
   "cell_type": "code",
   "execution_count": 14,
   "id": "aeeb04eb",
   "metadata": {},
   "outputs": [],
   "source": [
    "# Get stock data\n",
    "df = quandl.get(\"WIKI/FB\")"
   ]
  },
  {
   "cell_type": "code",
   "execution_count": 6,
   "id": "d1150b5f",
   "metadata": {},
   "outputs": [
    {
     "data": {
      "text/html": [
       "<div>\n",
       "<style scoped>\n",
       "    .dataframe tbody tr th:only-of-type {\n",
       "        vertical-align: middle;\n",
       "    }\n",
       "\n",
       "    .dataframe tbody tr th {\n",
       "        vertical-align: top;\n",
       "    }\n",
       "\n",
       "    .dataframe thead th {\n",
       "        text-align: right;\n",
       "    }\n",
       "</style>\n",
       "<table border=\"1\" class=\"dataframe\">\n",
       "  <thead>\n",
       "    <tr style=\"text-align: right;\">\n",
       "      <th></th>\n",
       "      <th>Open</th>\n",
       "      <th>High</th>\n",
       "      <th>Low</th>\n",
       "      <th>Close</th>\n",
       "      <th>Volume</th>\n",
       "      <th>Ex-Dividend</th>\n",
       "      <th>Split Ratio</th>\n",
       "      <th>Adj. Open</th>\n",
       "      <th>Adj. High</th>\n",
       "      <th>Adj. Low</th>\n",
       "      <th>Adj. Close</th>\n",
       "      <th>Adj. Volume</th>\n",
       "    </tr>\n",
       "    <tr>\n",
       "      <th>Date</th>\n",
       "      <th></th>\n",
       "      <th></th>\n",
       "      <th></th>\n",
       "      <th></th>\n",
       "      <th></th>\n",
       "      <th></th>\n",
       "      <th></th>\n",
       "      <th></th>\n",
       "      <th></th>\n",
       "      <th></th>\n",
       "      <th></th>\n",
       "      <th></th>\n",
       "    </tr>\n",
       "  </thead>\n",
       "  <tbody>\n",
       "    <tr>\n",
       "      <th>2012-05-18</th>\n",
       "      <td>42.05</td>\n",
       "      <td>45.00</td>\n",
       "      <td>38.00</td>\n",
       "      <td>38.2318</td>\n",
       "      <td>573576400.0</td>\n",
       "      <td>0.0</td>\n",
       "      <td>1.0</td>\n",
       "      <td>42.05</td>\n",
       "      <td>45.00</td>\n",
       "      <td>38.00</td>\n",
       "      <td>38.2318</td>\n",
       "      <td>573576400.0</td>\n",
       "    </tr>\n",
       "    <tr>\n",
       "      <th>2012-05-21</th>\n",
       "      <td>36.53</td>\n",
       "      <td>36.66</td>\n",
       "      <td>33.00</td>\n",
       "      <td>34.0300</td>\n",
       "      <td>168192700.0</td>\n",
       "      <td>0.0</td>\n",
       "      <td>1.0</td>\n",
       "      <td>36.53</td>\n",
       "      <td>36.66</td>\n",
       "      <td>33.00</td>\n",
       "      <td>34.0300</td>\n",
       "      <td>168192700.0</td>\n",
       "    </tr>\n",
       "    <tr>\n",
       "      <th>2012-05-22</th>\n",
       "      <td>32.61</td>\n",
       "      <td>33.59</td>\n",
       "      <td>30.94</td>\n",
       "      <td>31.0000</td>\n",
       "      <td>101786600.0</td>\n",
       "      <td>0.0</td>\n",
       "      <td>1.0</td>\n",
       "      <td>32.61</td>\n",
       "      <td>33.59</td>\n",
       "      <td>30.94</td>\n",
       "      <td>31.0000</td>\n",
       "      <td>101786600.0</td>\n",
       "    </tr>\n",
       "    <tr>\n",
       "      <th>2012-05-23</th>\n",
       "      <td>31.37</td>\n",
       "      <td>32.50</td>\n",
       "      <td>31.36</td>\n",
       "      <td>32.0000</td>\n",
       "      <td>73600000.0</td>\n",
       "      <td>0.0</td>\n",
       "      <td>1.0</td>\n",
       "      <td>31.37</td>\n",
       "      <td>32.50</td>\n",
       "      <td>31.36</td>\n",
       "      <td>32.0000</td>\n",
       "      <td>73600000.0</td>\n",
       "    </tr>\n",
       "    <tr>\n",
       "      <th>2012-05-24</th>\n",
       "      <td>32.95</td>\n",
       "      <td>33.21</td>\n",
       "      <td>31.77</td>\n",
       "      <td>33.0300</td>\n",
       "      <td>50237200.0</td>\n",
       "      <td>0.0</td>\n",
       "      <td>1.0</td>\n",
       "      <td>32.95</td>\n",
       "      <td>33.21</td>\n",
       "      <td>31.77</td>\n",
       "      <td>33.0300</td>\n",
       "      <td>50237200.0</td>\n",
       "    </tr>\n",
       "  </tbody>\n",
       "</table>\n",
       "</div>"
      ],
      "text/plain": [
       "             Open   High    Low    Close       Volume  Ex-Dividend  \\\n",
       "Date                                                                 \n",
       "2012-05-18  42.05  45.00  38.00  38.2318  573576400.0          0.0   \n",
       "2012-05-21  36.53  36.66  33.00  34.0300  168192700.0          0.0   \n",
       "2012-05-22  32.61  33.59  30.94  31.0000  101786600.0          0.0   \n",
       "2012-05-23  31.37  32.50  31.36  32.0000   73600000.0          0.0   \n",
       "2012-05-24  32.95  33.21  31.77  33.0300   50237200.0          0.0   \n",
       "\n",
       "            Split Ratio  Adj. Open  Adj. High  Adj. Low  Adj. Close  \\\n",
       "Date                                                                  \n",
       "2012-05-18          1.0      42.05      45.00     38.00     38.2318   \n",
       "2012-05-21          1.0      36.53      36.66     33.00     34.0300   \n",
       "2012-05-22          1.0      32.61      33.59     30.94     31.0000   \n",
       "2012-05-23          1.0      31.37      32.50     31.36     32.0000   \n",
       "2012-05-24          1.0      32.95      33.21     31.77     33.0300   \n",
       "\n",
       "            Adj. Volume  \n",
       "Date                     \n",
       "2012-05-18  573576400.0  \n",
       "2012-05-21  168192700.0  \n",
       "2012-05-22  101786600.0  \n",
       "2012-05-23   73600000.0  \n",
       "2012-05-24   50237200.0  "
      ]
     },
     "execution_count": 6,
     "metadata": {},
     "output_type": "execute_result"
    }
   ],
   "source": [
    "df.head()"
   ]
  },
  {
   "cell_type": "code",
   "execution_count": 10,
   "id": "2c733f43",
   "metadata": {},
   "outputs": [
    {
     "data": {
      "text/plain": [
       "Date\n",
       "2012-05-18    38.2318\n",
       "2012-05-21    34.0300\n",
       "2012-05-22    31.0000\n",
       "2012-05-23    32.0000\n",
       "2012-05-24    33.0300\n",
       "Name: Adj. Close, dtype: float64"
      ]
     },
     "execution_count": 10,
     "metadata": {},
     "output_type": "execute_result"
    }
   ],
   "source": [
    "# Get Adjusted Close price\n",
    "df = df['Adj. Close']\n",
    "df.head()"
   ]
  },
  {
   "cell_type": "code",
   "execution_count": 15,
   "id": "a30f660d",
   "metadata": {},
   "outputs": [
    {
     "data": {
      "text/html": [
       "<div>\n",
       "<style scoped>\n",
       "    .dataframe tbody tr th:only-of-type {\n",
       "        vertical-align: middle;\n",
       "    }\n",
       "\n",
       "    .dataframe tbody tr th {\n",
       "        vertical-align: top;\n",
       "    }\n",
       "\n",
       "    .dataframe thead th {\n",
       "        text-align: right;\n",
       "    }\n",
       "</style>\n",
       "<table border=\"1\" class=\"dataframe\">\n",
       "  <thead>\n",
       "    <tr style=\"text-align: right;\">\n",
       "      <th></th>\n",
       "      <th>Adj. Close</th>\n",
       "    </tr>\n",
       "    <tr>\n",
       "      <th>Date</th>\n",
       "      <th></th>\n",
       "    </tr>\n",
       "  </thead>\n",
       "  <tbody>\n",
       "    <tr>\n",
       "      <th>2012-05-18</th>\n",
       "      <td>38.2318</td>\n",
       "    </tr>\n",
       "    <tr>\n",
       "      <th>2012-05-21</th>\n",
       "      <td>34.0300</td>\n",
       "    </tr>\n",
       "    <tr>\n",
       "      <th>2012-05-22</th>\n",
       "      <td>31.0000</td>\n",
       "    </tr>\n",
       "    <tr>\n",
       "      <th>2012-05-23</th>\n",
       "      <td>32.0000</td>\n",
       "    </tr>\n",
       "    <tr>\n",
       "      <th>2012-05-24</th>\n",
       "      <td>33.0300</td>\n",
       "    </tr>\n",
       "  </tbody>\n",
       "</table>\n",
       "</div>"
      ],
      "text/plain": [
       "            Adj. Close\n",
       "Date                  \n",
       "2012-05-18     38.2318\n",
       "2012-05-21     34.0300\n",
       "2012-05-22     31.0000\n",
       "2012-05-23     32.0000\n",
       "2012-05-24     33.0300"
      ]
     },
     "execution_count": 15,
     "metadata": {},
     "output_type": "execute_result"
    }
   ],
   "source": [
    "df = df[[\"Adj. Close\"]]\n",
    "df.head()"
   ]
  },
  {
   "cell_type": "code",
   "execution_count": 19,
   "id": "e4841334",
   "metadata": {},
   "outputs": [
    {
     "data": {
      "text/html": [
       "<div>\n",
       "<style scoped>\n",
       "    .dataframe tbody tr th:only-of-type {\n",
       "        vertical-align: middle;\n",
       "    }\n",
       "\n",
       "    .dataframe tbody tr th {\n",
       "        vertical-align: top;\n",
       "    }\n",
       "\n",
       "    .dataframe thead th {\n",
       "        text-align: right;\n",
       "    }\n",
       "</style>\n",
       "<table border=\"1\" class=\"dataframe\">\n",
       "  <thead>\n",
       "    <tr style=\"text-align: right;\">\n",
       "      <th></th>\n",
       "      <th>Adj. Close</th>\n",
       "      <th>Prediction</th>\n",
       "    </tr>\n",
       "    <tr>\n",
       "      <th>Date</th>\n",
       "      <th></th>\n",
       "      <th></th>\n",
       "    </tr>\n",
       "  </thead>\n",
       "  <tbody>\n",
       "    <tr>\n",
       "      <th>2012-05-18</th>\n",
       "      <td>38.2318</td>\n",
       "      <td>30.771</td>\n",
       "    </tr>\n",
       "    <tr>\n",
       "      <th>2012-05-21</th>\n",
       "      <td>34.0300</td>\n",
       "      <td>31.200</td>\n",
       "    </tr>\n",
       "    <tr>\n",
       "      <th>2012-05-22</th>\n",
       "      <td>31.0000</td>\n",
       "      <td>31.470</td>\n",
       "    </tr>\n",
       "    <tr>\n",
       "      <th>2012-05-23</th>\n",
       "      <td>32.0000</td>\n",
       "      <td>31.730</td>\n",
       "    </tr>\n",
       "    <tr>\n",
       "      <th>2012-05-24</th>\n",
       "      <td>33.0300</td>\n",
       "      <td>32.170</td>\n",
       "    </tr>\n",
       "  </tbody>\n",
       "</table>\n",
       "</div>"
      ],
      "text/plain": [
       "            Adj. Close  Prediction\n",
       "Date                              \n",
       "2012-05-18     38.2318      30.771\n",
       "2012-05-21     34.0300      31.200\n",
       "2012-05-22     31.0000      31.470\n",
       "2012-05-23     32.0000      31.730\n",
       "2012-05-24     33.0300      32.170"
      ]
     },
     "execution_count": 19,
     "metadata": {},
     "output_type": "execute_result"
    }
   ],
   "source": [
    "# A variable for predicting 'n' days out into the future\n",
    "forecast_out = 30\n",
    "\n",
    "# create a new column : the target or dependent variable. shifted 'n' units up\n",
    "\n",
    "df ['Prediction'] = df[['Adj. Close']].shift(- forecast_out)\n",
    "\n",
    "# DataFrame.shift(periods=1, freq=None, axis=0,\n",
    "# Shift index by desired number of periods with an optional time freq.\n",
    "# periods: positive: use the previous rows, negative: use the following rows\n",
    "\n",
    "df.head()"
   ]
  },
  {
   "cell_type": "code",
   "execution_count": 20,
   "id": "1819f33b",
   "metadata": {},
   "outputs": [
    {
     "data": {
      "text/html": [
       "<div>\n",
       "<style scoped>\n",
       "    .dataframe tbody tr th:only-of-type {\n",
       "        vertical-align: middle;\n",
       "    }\n",
       "\n",
       "    .dataframe tbody tr th {\n",
       "        vertical-align: top;\n",
       "    }\n",
       "\n",
       "    .dataframe thead th {\n",
       "        text-align: right;\n",
       "    }\n",
       "</style>\n",
       "<table border=\"1\" class=\"dataframe\">\n",
       "  <thead>\n",
       "    <tr style=\"text-align: right;\">\n",
       "      <th></th>\n",
       "      <th>Adj. Close</th>\n",
       "      <th>Prediction</th>\n",
       "    </tr>\n",
       "    <tr>\n",
       "      <th>Date</th>\n",
       "      <th></th>\n",
       "      <th></th>\n",
       "    </tr>\n",
       "  </thead>\n",
       "  <tbody>\n",
       "    <tr>\n",
       "      <th>2018-03-21</th>\n",
       "      <td>169.39</td>\n",
       "      <td>NaN</td>\n",
       "    </tr>\n",
       "    <tr>\n",
       "      <th>2018-03-22</th>\n",
       "      <td>164.89</td>\n",
       "      <td>NaN</td>\n",
       "    </tr>\n",
       "    <tr>\n",
       "      <th>2018-03-23</th>\n",
       "      <td>159.39</td>\n",
       "      <td>NaN</td>\n",
       "    </tr>\n",
       "    <tr>\n",
       "      <th>2018-03-26</th>\n",
       "      <td>160.06</td>\n",
       "      <td>NaN</td>\n",
       "    </tr>\n",
       "    <tr>\n",
       "      <th>2018-03-27</th>\n",
       "      <td>152.19</td>\n",
       "      <td>NaN</td>\n",
       "    </tr>\n",
       "  </tbody>\n",
       "</table>\n",
       "</div>"
      ],
      "text/plain": [
       "            Adj. Close  Prediction\n",
       "Date                              \n",
       "2018-03-21      169.39         NaN\n",
       "2018-03-22      164.89         NaN\n",
       "2018-03-23      159.39         NaN\n",
       "2018-03-26      160.06         NaN\n",
       "2018-03-27      152.19         NaN"
      ]
     },
     "execution_count": 20,
     "metadata": {},
     "output_type": "execute_result"
    }
   ],
   "source": [
    "df.tail()"
   ]
  },
  {
   "cell_type": "code",
   "execution_count": 46,
   "id": "3592fe64",
   "metadata": {},
   "outputs": [
    {
     "data": {
      "text/plain": [
       "array([[ 38.2318],\n",
       "       [ 34.03  ],\n",
       "       [ 31.    ],\n",
       "       ...,\n",
       "       [171.5499],\n",
       "       [175.98  ],\n",
       "       [176.41  ]])"
      ]
     },
     "execution_count": 46,
     "metadata": {},
     "output_type": "execute_result"
    }
   ],
   "source": [
    "# convert the dataframe to a numpy array\n",
    "X = np.array(df.drop(['Prediction'], 1))\n",
    "\n",
    "# same as X = np.array(df['Adj. Close'])\n",
    "\n",
    "# remove the last 30 (forecase_out) rows\n",
    "# X now is a numpy array\n",
    "X = X[:-forecast_out]\n",
    "\n",
    "X"
   ]
  },
  {
   "cell_type": "code",
   "execution_count": 36,
   "id": "499e94f5",
   "metadata": {},
   "outputs": [
    {
     "data": {
      "text/plain": [
       "array([ 30.771,  31.2  ,  31.47 , ..., 159.39 , 160.06 , 152.19 ])"
      ]
     },
     "execution_count": 36,
     "metadata": {},
     "output_type": "execute_result"
    }
   ],
   "source": [
    "# Create the depdent dataset y\n",
    "y = np.array(df['Prediction'])\n",
    "y = y[:-forecast_out]\n",
    "y"
   ]
  },
  {
   "cell_type": "code",
   "execution_count": 37,
   "id": "9f7dc2ef",
   "metadata": {},
   "outputs": [],
   "source": [
    "# split\n",
    "\n",
    "X_train,X_test,y_train,y_test = train_test_split(X,y,test_size=0.2, random_state = 18)"
   ]
  },
  {
   "cell_type": "code",
   "execution_count": 50,
   "id": "2174afec",
   "metadata": {},
   "outputs": [],
   "source": [
    "# Model : SVR\n",
    "svr_rbf = SVR(kernel ='rbf', C = 1e3, gamma = 0.1)\n",
    "svr_rbf.fit(X_train,y_train)\n",
    "ypred = svr_rbf.predict(X_test)\n",
    "\n",
    "from sklearn.metrics import r2_score\n",
    "R2_svr = r2_score(ypred,y_test)"
   ]
  },
  {
   "cell_type": "code",
   "execution_count": 33,
   "id": "f24fe74f",
   "metadata": {},
   "outputs": [
    {
     "data": {
      "text/plain": [
       "0.9816207871192477"
      ]
     },
     "execution_count": 33,
     "metadata": {},
     "output_type": "execute_result"
    }
   ],
   "source": [
    "R2_svr"
   ]
  },
  {
   "cell_type": "code",
   "execution_count": 40,
   "id": "77d9555b",
   "metadata": {},
   "outputs": [],
   "source": [
    "# Model: Linear Model\n",
    "\n",
    "linear = LinearRegression()\n",
    "linear.fit(X_train,y_train)\n",
    "ypred = linear.predict(X_test)\n",
    "\n",
    "R2_linear = r2_score(ypred,y_test)"
   ]
  },
  {
   "cell_type": "code",
   "execution_count": 41,
   "id": "df937523",
   "metadata": {},
   "outputs": [
    {
     "data": {
      "text/plain": [
       "0.9812538638878047"
      ]
     },
     "execution_count": 41,
     "metadata": {},
     "output_type": "execute_result"
    }
   ],
   "source": [
    "R2_linear"
   ]
  },
  {
   "cell_type": "code",
   "execution_count": 47,
   "id": "34e44669",
   "metadata": {},
   "outputs": [],
   "source": [
    "X_forecast = np.array(df.drop(['Prediction'],1))[-forecast_out:]"
   ]
  },
  {
   "cell_type": "code",
   "execution_count": 48,
   "id": "5eac59d8",
   "metadata": {},
   "outputs": [
    {
     "data": {
      "text/plain": [
       "array([177.23405068, 183.67404911, 184.11888417, 181.49031338,\n",
       "       180.12547855, 182.0463572 , 183.13822506, 187.48547675,\n",
       "       189.14349832, 185.63536731, 182.46086259, 180.05470933,\n",
       "       180.74218169, 184.56371922, 183.93690619, 187.91009203,\n",
       "       186.52503742, 189.44679495, 188.97163023, 186.05998259,\n",
       "       188.39536664, 188.06174034, 189.30525652, 176.63756731,\n",
       "       172.17910686, 173.43273293, 168.88328349, 163.32284529,\n",
       "       164.00020776, 156.04372619])"
      ]
     },
     "execution_count": 48,
     "metadata": {},
     "output_type": "execute_result"
    }
   ],
   "source": [
    "# print the prediction for the next 30 days\n",
    "lr_prediction = linear.predict(X_forecast)\n",
    "lr_prediction"
   ]
  },
  {
   "cell_type": "code",
   "execution_count": 52,
   "id": "05d775db",
   "metadata": {},
   "outputs": [
    {
     "data": {
      "text/plain": [
       "array([181.89300404, 181.4052896 , 182.11269001, 176.12419312,\n",
       "       175.22525504, 177.56329031, 180.40932277, 186.49553134,\n",
       "       179.34441812, 185.75707524, 178.72938215, 175.32218469,\n",
       "       175.01465056, 182.90227269, 181.82436953, 184.62835498,\n",
       "       187.80670018, 178.99669929, 179.77192746, 186.96509171,\n",
       "       182.14791362, 183.86008934, 179.09229616, 180.68551511,\n",
       "       171.16306229, 172.62614129, 172.27279608, 167.71044499,\n",
       "       166.16010078, 156.01859293])"
      ]
     },
     "execution_count": 52,
     "metadata": {},
     "output_type": "execute_result"
    }
   ],
   "source": [
    "svr_prediction = svr_rbf.predict(X_forecast)\n",
    "svr_prediction"
   ]
  },
  {
   "cell_type": "code",
   "execution_count": 73,
   "id": "1756b388",
   "metadata": {},
   "outputs": [
    {
     "data": {
      "text/html": [
       "<div>\n",
       "<style scoped>\n",
       "    .dataframe tbody tr th:only-of-type {\n",
       "        vertical-align: middle;\n",
       "    }\n",
       "\n",
       "    .dataframe tbody tr th {\n",
       "        vertical-align: top;\n",
       "    }\n",
       "\n",
       "    .dataframe thead th {\n",
       "        text-align: right;\n",
       "    }\n",
       "</style>\n",
       "<table border=\"1\" class=\"dataframe\">\n",
       "  <thead>\n",
       "    <tr style=\"text-align: right;\">\n",
       "      <th></th>\n",
       "      <th>0</th>\n",
       "    </tr>\n",
       "  </thead>\n",
       "  <tbody>\n",
       "    <tr>\n",
       "      <th>181.893004</th>\n",
       "      <td>177.234051</td>\n",
       "    </tr>\n",
       "    <tr>\n",
       "      <th>181.405290</th>\n",
       "      <td>183.674049</td>\n",
       "    </tr>\n",
       "    <tr>\n",
       "      <th>182.112690</th>\n",
       "      <td>184.118884</td>\n",
       "    </tr>\n",
       "    <tr>\n",
       "      <th>176.124193</th>\n",
       "      <td>181.490313</td>\n",
       "    </tr>\n",
       "    <tr>\n",
       "      <th>175.225255</th>\n",
       "      <td>180.125479</td>\n",
       "    </tr>\n",
       "  </tbody>\n",
       "</table>\n",
       "</div>"
      ],
      "text/plain": [
       "                     0\n",
       "181.893004  177.234051\n",
       "181.405290  183.674049\n",
       "182.112690  184.118884\n",
       "176.124193  181.490313\n",
       "175.225255  180.125479"
      ]
     },
     "execution_count": 73,
     "metadata": {},
     "output_type": "execute_result"
    }
   ],
   "source": [
    "import pandas as pd\n",
    "df_pred = pd.DataFrame(lr_prediction, svr_prediction)\n",
    "df_pred.head()"
   ]
  },
  {
   "cell_type": "code",
   "execution_count": 78,
   "id": "9472b7b4",
   "metadata": {},
   "outputs": [],
   "source": [
    "narray = np.transpose( [lr_prediction, svr_prediction])"
   ]
  },
  {
   "cell_type": "code",
   "execution_count": 80,
   "id": "095f37db",
   "metadata": {},
   "outputs": [
    {
     "data": {
      "text/html": [
       "<div>\n",
       "<style scoped>\n",
       "    .dataframe tbody tr th:only-of-type {\n",
       "        vertical-align: middle;\n",
       "    }\n",
       "\n",
       "    .dataframe tbody tr th {\n",
       "        vertical-align: top;\n",
       "    }\n",
       "\n",
       "    .dataframe thead th {\n",
       "        text-align: right;\n",
       "    }\n",
       "</style>\n",
       "<table border=\"1\" class=\"dataframe\">\n",
       "  <thead>\n",
       "    <tr style=\"text-align: right;\">\n",
       "      <th></th>\n",
       "      <th>linear</th>\n",
       "      <th>svr</th>\n",
       "    </tr>\n",
       "  </thead>\n",
       "  <tbody>\n",
       "    <tr>\n",
       "      <th>0</th>\n",
       "      <td>177.234051</td>\n",
       "      <td>181.893004</td>\n",
       "    </tr>\n",
       "    <tr>\n",
       "      <th>1</th>\n",
       "      <td>183.674049</td>\n",
       "      <td>181.405290</td>\n",
       "    </tr>\n",
       "    <tr>\n",
       "      <th>2</th>\n",
       "      <td>184.118884</td>\n",
       "      <td>182.112690</td>\n",
       "    </tr>\n",
       "    <tr>\n",
       "      <th>3</th>\n",
       "      <td>181.490313</td>\n",
       "      <td>176.124193</td>\n",
       "    </tr>\n",
       "    <tr>\n",
       "      <th>4</th>\n",
       "      <td>180.125479</td>\n",
       "      <td>175.225255</td>\n",
       "    </tr>\n",
       "  </tbody>\n",
       "</table>\n",
       "</div>"
      ],
      "text/plain": [
       "       linear         svr\n",
       "0  177.234051  181.893004\n",
       "1  183.674049  181.405290\n",
       "2  184.118884  182.112690\n",
       "3  181.490313  176.124193\n",
       "4  180.125479  175.225255"
      ]
     },
     "execution_count": 80,
     "metadata": {},
     "output_type": "execute_result"
    }
   ],
   "source": [
    "df_pred = pd.DataFrame(narray,columns=['linear','svr'])\n",
    "df_pred.head()"
   ]
  },
  {
   "cell_type": "code",
   "execution_count": 84,
   "id": "9c496cf9",
   "metadata": {},
   "outputs": [],
   "source": [
    "ytrue = np.array(df['Adj. Close'])[-forecast_out:]"
   ]
  },
  {
   "cell_type": "code",
   "execution_count": 87,
   "id": "c01fff49",
   "metadata": {},
   "outputs": [
    {
     "data": {
      "text/html": [
       "<div>\n",
       "<style scoped>\n",
       "    .dataframe tbody tr th:only-of-type {\n",
       "        vertical-align: middle;\n",
       "    }\n",
       "\n",
       "    .dataframe tbody tr th {\n",
       "        vertical-align: top;\n",
       "    }\n",
       "\n",
       "    .dataframe thead th {\n",
       "        text-align: right;\n",
       "    }\n",
       "</style>\n",
       "<table border=\"1\" class=\"dataframe\">\n",
       "  <thead>\n",
       "    <tr style=\"text-align: right;\">\n",
       "      <th></th>\n",
       "      <th>linear</th>\n",
       "      <th>svr</th>\n",
       "      <th>true</th>\n",
       "    </tr>\n",
       "  </thead>\n",
       "  <tbody>\n",
       "    <tr>\n",
       "      <th>0</th>\n",
       "      <td>177.234051</td>\n",
       "      <td>181.893004</td>\n",
       "      <td>173.15</td>\n",
       "    </tr>\n",
       "    <tr>\n",
       "      <th>1</th>\n",
       "      <td>183.674049</td>\n",
       "      <td>181.405290</td>\n",
       "      <td>179.52</td>\n",
       "    </tr>\n",
       "    <tr>\n",
       "      <th>2</th>\n",
       "      <td>184.118884</td>\n",
       "      <td>182.112690</td>\n",
       "      <td>179.96</td>\n",
       "    </tr>\n",
       "    <tr>\n",
       "      <th>3</th>\n",
       "      <td>181.490313</td>\n",
       "      <td>176.124193</td>\n",
       "      <td>177.36</td>\n",
       "    </tr>\n",
       "    <tr>\n",
       "      <th>4</th>\n",
       "      <td>180.125479</td>\n",
       "      <td>175.225255</td>\n",
       "      <td>176.01</td>\n",
       "    </tr>\n",
       "    <tr>\n",
       "      <th>5</th>\n",
       "      <td>182.046357</td>\n",
       "      <td>177.563290</td>\n",
       "      <td>177.91</td>\n",
       "    </tr>\n",
       "    <tr>\n",
       "      <th>6</th>\n",
       "      <td>183.138225</td>\n",
       "      <td>180.409323</td>\n",
       "      <td>178.99</td>\n",
       "    </tr>\n",
       "    <tr>\n",
       "      <th>7</th>\n",
       "      <td>187.485477</td>\n",
       "      <td>186.495531</td>\n",
       "      <td>183.29</td>\n",
       "    </tr>\n",
       "    <tr>\n",
       "      <th>8</th>\n",
       "      <td>189.143498</td>\n",
       "      <td>179.344418</td>\n",
       "      <td>184.93</td>\n",
       "    </tr>\n",
       "    <tr>\n",
       "      <th>9</th>\n",
       "      <td>185.635367</td>\n",
       "      <td>185.757075</td>\n",
       "      <td>181.46</td>\n",
       "    </tr>\n",
       "    <tr>\n",
       "      <th>10</th>\n",
       "      <td>182.460863</td>\n",
       "      <td>178.729382</td>\n",
       "      <td>178.32</td>\n",
       "    </tr>\n",
       "    <tr>\n",
       "      <th>11</th>\n",
       "      <td>180.054709</td>\n",
       "      <td>175.322185</td>\n",
       "      <td>175.94</td>\n",
       "    </tr>\n",
       "    <tr>\n",
       "      <th>12</th>\n",
       "      <td>180.742182</td>\n",
       "      <td>175.014651</td>\n",
       "      <td>176.62</td>\n",
       "    </tr>\n",
       "    <tr>\n",
       "      <th>13</th>\n",
       "      <td>184.563719</td>\n",
       "      <td>182.902273</td>\n",
       "      <td>180.40</td>\n",
       "    </tr>\n",
       "    <tr>\n",
       "      <th>14</th>\n",
       "      <td>183.936906</td>\n",
       "      <td>181.824370</td>\n",
       "      <td>179.78</td>\n",
       "    </tr>\n",
       "    <tr>\n",
       "      <th>15</th>\n",
       "      <td>187.910092</td>\n",
       "      <td>184.628355</td>\n",
       "      <td>183.71</td>\n",
       "    </tr>\n",
       "    <tr>\n",
       "      <th>16</th>\n",
       "      <td>186.525037</td>\n",
       "      <td>187.806700</td>\n",
       "      <td>182.34</td>\n",
       "    </tr>\n",
       "    <tr>\n",
       "      <th>17</th>\n",
       "      <td>189.446795</td>\n",
       "      <td>178.996699</td>\n",
       "      <td>185.23</td>\n",
       "    </tr>\n",
       "    <tr>\n",
       "      <th>18</th>\n",
       "      <td>188.971630</td>\n",
       "      <td>179.771927</td>\n",
       "      <td>184.76</td>\n",
       "    </tr>\n",
       "    <tr>\n",
       "      <th>19</th>\n",
       "      <td>186.059983</td>\n",
       "      <td>186.965092</td>\n",
       "      <td>181.88</td>\n",
       "    </tr>\n",
       "    <tr>\n",
       "      <th>20</th>\n",
       "      <td>188.395367</td>\n",
       "      <td>182.147914</td>\n",
       "      <td>184.19</td>\n",
       "    </tr>\n",
       "    <tr>\n",
       "      <th>21</th>\n",
       "      <td>188.061740</td>\n",
       "      <td>183.860089</td>\n",
       "      <td>183.86</td>\n",
       "    </tr>\n",
       "    <tr>\n",
       "      <th>22</th>\n",
       "      <td>189.305257</td>\n",
       "      <td>179.092296</td>\n",
       "      <td>185.09</td>\n",
       "    </tr>\n",
       "    <tr>\n",
       "      <th>23</th>\n",
       "      <td>176.637567</td>\n",
       "      <td>180.685515</td>\n",
       "      <td>172.56</td>\n",
       "    </tr>\n",
       "    <tr>\n",
       "      <th>24</th>\n",
       "      <td>172.179107</td>\n",
       "      <td>171.163062</td>\n",
       "      <td>168.15</td>\n",
       "    </tr>\n",
       "    <tr>\n",
       "      <th>25</th>\n",
       "      <td>173.432733</td>\n",
       "      <td>172.626141</td>\n",
       "      <td>169.39</td>\n",
       "    </tr>\n",
       "    <tr>\n",
       "      <th>26</th>\n",
       "      <td>168.883283</td>\n",
       "      <td>172.272796</td>\n",
       "      <td>164.89</td>\n",
       "    </tr>\n",
       "    <tr>\n",
       "      <th>27</th>\n",
       "      <td>163.322845</td>\n",
       "      <td>167.710445</td>\n",
       "      <td>159.39</td>\n",
       "    </tr>\n",
       "    <tr>\n",
       "      <th>28</th>\n",
       "      <td>164.000208</td>\n",
       "      <td>166.160101</td>\n",
       "      <td>160.06</td>\n",
       "    </tr>\n",
       "    <tr>\n",
       "      <th>29</th>\n",
       "      <td>156.043726</td>\n",
       "      <td>156.018593</td>\n",
       "      <td>152.19</td>\n",
       "    </tr>\n",
       "  </tbody>\n",
       "</table>\n",
       "</div>"
      ],
      "text/plain": [
       "        linear         svr    true\n",
       "0   177.234051  181.893004  173.15\n",
       "1   183.674049  181.405290  179.52\n",
       "2   184.118884  182.112690  179.96\n",
       "3   181.490313  176.124193  177.36\n",
       "4   180.125479  175.225255  176.01\n",
       "5   182.046357  177.563290  177.91\n",
       "6   183.138225  180.409323  178.99\n",
       "7   187.485477  186.495531  183.29\n",
       "8   189.143498  179.344418  184.93\n",
       "9   185.635367  185.757075  181.46\n",
       "10  182.460863  178.729382  178.32\n",
       "11  180.054709  175.322185  175.94\n",
       "12  180.742182  175.014651  176.62\n",
       "13  184.563719  182.902273  180.40\n",
       "14  183.936906  181.824370  179.78\n",
       "15  187.910092  184.628355  183.71\n",
       "16  186.525037  187.806700  182.34\n",
       "17  189.446795  178.996699  185.23\n",
       "18  188.971630  179.771927  184.76\n",
       "19  186.059983  186.965092  181.88\n",
       "20  188.395367  182.147914  184.19\n",
       "21  188.061740  183.860089  183.86\n",
       "22  189.305257  179.092296  185.09\n",
       "23  176.637567  180.685515  172.56\n",
       "24  172.179107  171.163062  168.15\n",
       "25  173.432733  172.626141  169.39\n",
       "26  168.883283  172.272796  164.89\n",
       "27  163.322845  167.710445  159.39\n",
       "28  164.000208  166.160101  160.06\n",
       "29  156.043726  156.018593  152.19"
      ]
     },
     "execution_count": 87,
     "metadata": {},
     "output_type": "execute_result"
    }
   ],
   "source": [
    "narray = np.transpose([lr_prediction, svr_prediction, ytrue])\n",
    "df_pred_true = pd.DataFrame(narray, columns=['linear','svr','true'])\n",
    "df_pred_true"
   ]
  },
  {
   "cell_type": "code",
   "execution_count": null,
   "id": "34c718c9",
   "metadata": {},
   "outputs": [],
   "source": []
  }
 ],
 "metadata": {
  "kernelspec": {
   "display_name": "Python 3 (ipykernel)",
   "language": "python",
   "name": "python3"
  },
  "language_info": {
   "codemirror_mode": {
    "name": "ipython",
    "version": 3
   },
   "file_extension": ".py",
   "mimetype": "text/x-python",
   "name": "python",
   "nbconvert_exporter": "python",
   "pygments_lexer": "ipython3",
   "version": "3.9.7"
  }
 },
 "nbformat": 4,
 "nbformat_minor": 5
}
